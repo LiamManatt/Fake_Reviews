{
 "cells": [
  {
   "cell_type": "code",
   "execution_count": 1,
   "id": "fe7b85ca",
   "metadata": {},
   "outputs": [
    {
     "name": "stderr",
     "output_type": "stream",
     "text": [
      "[nltk_data] Downloading package punkt to /home/vdubey/nltk_data...\n",
      "[nltk_data]   Package punkt is already up-to-date!\n",
      "[nltk_data] Downloading package stopwords to /home/vdubey/nltk_data...\n",
      "[nltk_data]   Package stopwords is already up-to-date!\n",
      "[nltk_data] Downloading package wordnet to /home/vdubey/nltk_data...\n",
      "[nltk_data]   Package wordnet is already up-to-date!\n",
      "[nltk_data] Downloading package vader_lexicon to\n",
      "[nltk_data]     /home/vdubey/nltk_data...\n",
      "[nltk_data]   Package vader_lexicon is already up-to-date!\n"
     ]
    }
   ],
   "source": [
    "import pandas as pd\n",
    "import string\n",
    "import nltk\n",
    "from nltk.corpus import stopwords\n",
    "from nltk.tokenize import word_tokenize\n",
    "from nltk.sentiment.vader import SentimentIntensityAnalyzer\n",
    "from nltk.corpus import stopwords\n",
    "from nltk.tokenize import word_tokenize\n",
    "from nltk.stem import WordNetLemmatizer\n",
    "\n",
    "import matplotlib.pyplot as plt\n",
    "import seaborn as sns\n",
    "import numpy as np\n",
    "from wordcloud import WordCloud\n",
    "\n",
    "nltk.download('punkt')\n",
    "nltk.download('stopwords')\n",
    "nltk.download('wordnet')\n",
    "nltk.download('vader_lexicon')\n",
    "\n",
    "stopwords = set(stopwords.words('english'))\n",
    "sns.set_theme()"
   ]
  },
  {
   "cell_type": "code",
   "execution_count": null,
   "id": "df9c38d3",
   "metadata": {},
   "outputs": [],
   "source": [
    "reviews_df = pd.read_csv('../data/fake_reviews.csv')\n",
    "reviews_df = reviews_df.rename(columns = {'text_': 'text'})\n",
    "reviews_df['category'] = reviews_df['category'].apply(lambda s: s[:-2].replace('_', ' '))\n",
    "reviews_df['rating'] = reviews_df['rating'].astype(int)\n",
    "\n",
    "reviews_df['text_no_stop'] = reviews_df['text'].apply(lambda s: ' '.join([token for token in word_tokenize(s.lower()) if token not in stopwords]))\n",
    "reviews_df['text_no_punct'] = reviews_df['text'].apply(lambda s: s.lower().translate(str.maketrans('', '', string.punctuation)))"
   ]
  },
  {
   "cell_type": "code",
   "execution_count": null,
   "id": "1cd64bc9",
   "metadata": {},
   "outputs": [],
   "source": [
    "def preprocess_text(s):\n",
    "    tokens = word_tokenize(s.lower())\n",
    "    filtered_tokens = [token for token in tokens if token not in stopwords]\n",
    "    lemmatizer = WordNetLemmatizer()\n",
    "    lemmatized_tokens = [lemmatizer.lemmatize(token) for token in filtered_tokens]\n",
    "    processed_text = ' '.join(lemmatized_tokens)\n",
    "    return processed_text"
   ]
  },
  {
   "cell_type": "code",
   "execution_count": null,
   "id": "bddca520",
   "metadata": {},
   "outputs": [],
   "source": [
    "reviews_df['lemma_text'] = reviews_df['text_no_punct'].apply(preprocess_text)"
   ]
  },
  {
   "cell_type": "code",
   "execution_count": null,
   "id": "b3bc6a00",
   "metadata": {},
   "outputs": [],
   "source": [
    "sent_analyzer = SentimentIntensityAnalyzer()\n",
    "reviews_df['sentiment'] = reviews_df['lemma_text'].apply(lambda s: sent_analyzer.polarity_scores(s))\n",
    "reviews_df['neg_sentiment'] = reviews_df.sentiment.apply(lambda dc: dc['neg'])\n",
    "reviews_df['pos_sentiment'] = reviews_df.sentiment.apply(lambda dc: dc['pos'])\n",
    "reviews_df['neu_sentiment'] = reviews_df.sentiment.apply(lambda dc: dc['neu'])\n",
    "reviews_df['comp_sentiment'] = reviews_df.sentiment.apply(lambda dc: dc['compound'])\n",
    "\n",
    "reviews_df.head()"
   ]
  },
  {
   "cell_type": "code",
   "execution_count": null,
   "id": "04784a49",
   "metadata": {},
   "outputs": [],
   "source": [
    "reviews_df['num_words'] = reviews_df['text_no_punct'].apply(lambda s: len(s.split(' ')))"
   ]
  },
  {
   "cell_type": "code",
   "execution_count": null,
   "id": "fc61f8a5",
   "metadata": {},
   "outputs": [],
   "source": [
    "def plot_word_cloud(words_ser):\n",
    "    all_words = (\" \".join(words_ser) + ' ').replace('  ', ' ')\n",
    "    wordcloud = WordCloud(width = 800, height = 800,\n",
    "                background_color ='white',\n",
    "                stopwords = stopwords,\n",
    "                min_font_size = 10).generate(all_words)\n",
    "\n",
    "    plt.figure(figsize = (8, 8), facecolor = None)\n",
    "    plt.imshow(wordcloud)\n",
    "    plt.axis(\"off\")\n",
    "    plt.tight_layout(pad = 0)\n",
    "\n",
    "    plt.show() "
   ]
  },
  {
   "cell_type": "code",
   "execution_count": null,
   "id": "388e62c0",
   "metadata": {},
   "outputs": [],
   "source": [
    "cg_reviews = reviews_df[reviews_df.label == 'CG']\n",
    "or_reviews = reviews_df[reviews_df.label == 'OR']"
   ]
  },
  {
   "cell_type": "code",
   "execution_count": null,
   "id": "04c42d45",
   "metadata": {},
   "outputs": [],
   "source": [
    "plot_word_cloud(reviews_df.text_no_punct)"
   ]
  },
  {
   "cell_type": "code",
   "execution_count": null,
   "id": "a0e00807",
   "metadata": {},
   "outputs": [],
   "source": [
    "fake_reviews = cg_reviews.text_no_punct\n",
    "plot_word_cloud(fake_reviews)"
   ]
  },
  {
   "cell_type": "code",
   "execution_count": null,
   "id": "d5ec3f85",
   "metadata": {},
   "outputs": [],
   "source": [
    "real_reviews = or_reviews.text_no_punct\n",
    "plot_word_cloud(real_reviews)"
   ]
  },
  {
   "cell_type": "code",
   "execution_count": null,
   "id": "59362656",
   "metadata": {},
   "outputs": [],
   "source": [
    "bins = np.arange(0, 375, 25)\n",
    "plt.figure(figsize=(12, 8))\n",
    "plt.hist(cg_reviews.num_words,\n",
    "         label = 'computer generated reviews',\n",
    "         alpha = 0.5,\n",
    "         bins = bins,\n",
    "         density=True)\n",
    "\n",
    "plt.hist(or_reviews.num_words,\n",
    "         label = 'original reviews',\n",
    "         alpha = 0.5,\n",
    "         bins = bins,\n",
    "         density=True)\n",
    "\n",
    "plt.legend()\n",
    "plt.xlabel('number of words')\n",
    "plt.ylabel('density')\n",
    "plt.show()"
   ]
  },
  {
   "cell_type": "code",
   "execution_count": null,
   "id": "62b1ac21",
   "metadata": {},
   "outputs": [],
   "source": [
    "from scipy.stats import ks_2samp\n",
    "\n",
    "print(f'Median num words (CG): {cg_reviews.num_words.median()}')\n",
    "print(f'Median num words (OR): {or_reviews.num_words.median()}')\n",
    "print()\n",
    "\n",
    "#testing if original reviews have more words than computer generated reviews\n",
    "res = ks_2samp(cg_reviews.num_words, or_reviews.num_words, alternative='greater')\n",
    "\n",
    "print(f'Test Stat: {res[0]}')\n",
    "print(f'P-value: {res[1]}')"
   ]
  },
  {
   "cell_type": "code",
   "execution_count": null,
   "id": "4ea0dda7",
   "metadata": {},
   "outputs": [],
   "source": [
    "fig, axes = plt.subplots(2, 2, figsize=(16, 12))\n",
    "\n",
    "axes[0, 0].hist(cg_reviews.comp_sentiment, alpha=0.5, label='computer generated reviews', density=True)\n",
    "axes[0, 0].hist(or_reviews.comp_sentiment, alpha=0.5, label='original reviews', density=True)\n",
    "axes[0, 0].set_xlabel('sentiment')\n",
    "axes[0, 0].set_ylabel('density')\n",
    "axes[0, 0].legend()\n",
    "\n",
    "axes[0, 1].hist(cg_reviews.pos_sentiment, alpha=0.5, label='computer generated reviews', density=True)\n",
    "axes[0, 1].hist(or_reviews.pos_sentiment, alpha=0.5, label='original reviews', density=True)\n",
    "axes[0, 1].set_xlabel('positive sentiment')\n",
    "axes[0, 1].set_ylabel('density')\n",
    "axes[0, 1].legend()\n",
    "\n",
    "axes[1, 0].hist(cg_reviews.neu_sentiment, alpha=0.5, label='computer generated reviews', density=True)\n",
    "axes[1, 0].hist(or_reviews.neu_sentiment, alpha=0.5, label='original reviews', density=True)\n",
    "axes[1, 0].set_xlabel('neutral sentiment')\n",
    "axes[1, 0].set_ylabel('density')\n",
    "axes[1, 0].legend()\n",
    "\n",
    "axes[1, 1].hist(cg_reviews.neg_sentiment, alpha=0.5, label='computer generated reviews', density=True)\n",
    "axes[1, 1].hist(or_reviews.neg_sentiment, alpha=0.5, label='original reviews', density=True)\n",
    "axes[1, 1].set_xlabel('negative sentiment')\n",
    "axes[1, 1].set_ylabel('density')\n",
    "axes[1, 1].legend()\n",
    "\n",
    "plt.tight_layout()\n",
    "plt.show()"
   ]
  },
  {
   "cell_type": "code",
   "execution_count": null,
   "id": "e29dfe42",
   "metadata": {},
   "outputs": [],
   "source": [
    "print(f'Median compound sentiment (CG): {cg_reviews.comp_sentiment.median()}')\n",
    "print(f'Median compound sentiment (OR): {or_reviews.comp_sentiment.median()}')\n",
    "print()\n",
    "\n",
    "#testing if computer-generated reviews have more compound sentiment than original reviews\n",
    "res = ks_2samp(cg_reviews.comp_sentiment, or_reviews.comp_sentiment, alternative='less')\n",
    "\n",
    "print(f'Test Stat: {res[0]}')\n",
    "print(f'P-value: {res[1]}')"
   ]
  },
  {
   "cell_type": "code",
   "execution_count": null,
   "id": "16f6710f",
   "metadata": {},
   "outputs": [],
   "source": [
    "print(f'Median compound sentiment (CG): {cg_reviews.neg_sentiment.median()}')\n",
    "print(f'Median compound sentiment (OR): {or_reviews.neg_sentiment.median()}')\n",
    "print()\n",
    "\n",
    "#testing if computer-generated reviews have less negative sentiment than original reviews\n",
    "res = ks_2samp(cg_reviews.neg_sentiment, or_reviews.neg_sentiment, alternative='greater')\n",
    "\n",
    "print(f'Test Stat: {res[0]}')\n",
    "print(f'P-value: {res[1]}')"
   ]
  },
  {
   "cell_type": "code",
   "execution_count": null,
   "id": "8bd9b751",
   "metadata": {},
   "outputs": [],
   "source": [
    "def plot_sentiment_by_rating(emotion):\n",
    "    fig, axes = plt.subplots(1, 2, figsize=(16, 8))\n",
    "\n",
    "    sns.boxplot(ax=axes[0], x='rating', y=f'{emotion}_sentiment', data=or_reviews)\n",
    "    axes[0].set_title('OR Reviews')\n",
    "\n",
    "    sns.boxplot(ax=axes[1], x='rating', y=f'{emotion}_sentiment', data=cg_reviews)\n",
    "    axes[1].set_title('CG Reviews')\n",
    "\n",
    "    plt.tight_layout()\n",
    "    plt.show() "
   ]
  },
  {
   "cell_type": "code",
   "execution_count": null,
   "id": "f92de06a",
   "metadata": {},
   "outputs": [],
   "source": [
    "plot_sentiment_by_rating('comp')"
   ]
  },
  {
   "cell_type": "code",
   "execution_count": null,
   "id": "8573397d",
   "metadata": {},
   "outputs": [],
   "source": [
    "plot_sentiment_by_rating('pos')"
   ]
  },
  {
   "cell_type": "code",
   "execution_count": null,
   "id": "ee60f513",
   "metadata": {},
   "outputs": [],
   "source": [
    "plot_sentiment_by_rating('neu')"
   ]
  },
  {
   "cell_type": "code",
   "execution_count": null,
   "id": "2a83eaba",
   "metadata": {},
   "outputs": [],
   "source": [
    "plot_sentiment_by_rating('neg')"
   ]
  },
  {
   "cell_type": "code",
   "execution_count": null,
   "id": "3d8fbeaa",
   "metadata": {},
   "outputs": [],
   "source": []
  }
 ],
 "metadata": {
  "kernelspec": {
   "display_name": "Python 3 (ipykernel)",
   "language": "python",
   "name": "python3"
  },
  "language_info": {
   "codemirror_mode": {
    "name": "ipython",
    "version": 3
   },
   "file_extension": ".py",
   "mimetype": "text/x-python",
   "name": "python",
   "nbconvert_exporter": "python",
   "pygments_lexer": "ipython3",
   "version": "3.9.5"
  }
 },
 "nbformat": 4,
 "nbformat_minor": 5
}
