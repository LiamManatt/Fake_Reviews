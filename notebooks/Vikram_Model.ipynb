{
 "cells": [
  {
   "cell_type": "code",
   "execution_count": 1,
   "metadata": {},
   "outputs": [
    {
     "name": "stderr",
     "output_type": "stream",
     "text": [
      "[nltk_data] Downloading package punkt to /Users/vikram/nltk_data...\n",
      "[nltk_data]   Package punkt is already up-to-date!\n",
      "[nltk_data] Downloading package stopwords to\n",
      "[nltk_data]     /Users/vikram/nltk_data...\n",
      "[nltk_data]   Package stopwords is already up-to-date!\n",
      "[nltk_data] Downloading package omw-1.4 to /Users/vikram/nltk_data...\n",
      "[nltk_data]   Package omw-1.4 is already up-to-date!\n",
      "[nltk_data] Downloading package wordnet to /Users/vikram/nltk_data...\n",
      "[nltk_data]   Package wordnet is already up-to-date!\n",
      "[nltk_data] Downloading package vader_lexicon to\n",
      "[nltk_data]     /Users/vikram/nltk_data...\n",
      "[nltk_data]   Package vader_lexicon is already up-to-date!\n"
     ]
    }
   ],
   "source": [
    "import pandas as pd\n",
    "import string\n",
    "import nltk\n",
    "from nltk.corpus import stopwords\n",
    "from sklearn.feature_extraction.text import TfidfVectorizer\n",
    "from sklearn.model_selection import train_test_split\n",
    "from sklearn.pipeline import Pipeline\n",
    "from sklearn.model_selection import GridSearchCV\n",
    "from sklearn.feature_extraction.text import CountVectorizer\n",
    "from sklearn.model_selection import train_test_split\n",
    "from sklearn.naive_bayes import MultinomialNB\n",
    "from sklearn.tree import DecisionTreeClassifier\n",
    "from sklearn.metrics import accuracy_score\n",
    "\n",
    "nltk.download('punkt')\n",
    "nltk.download('stopwords')\n",
    "nltk.download('omw-1.4')\n",
    "\n",
    "stopwords = set(stopwords.words('english'))\n",
    "\n",
    "import seaborn as sns\n",
    "import numpy as np\n",
    "\n",
    "nltk.download('wordnet')\n",
    "nltk.download('vader_lexicon')\n",
    "\n",
    "sns.set_theme()"
   ]
  },
  {
   "cell_type": "code",
   "execution_count": 2,
   "metadata": {},
   "outputs": [
    {
     "data": {
      "text/html": [
       "<div>\n",
       "<style scoped>\n",
       "    .dataframe tbody tr th:only-of-type {\n",
       "        vertical-align: middle;\n",
       "    }\n",
       "\n",
       "    .dataframe tbody tr th {\n",
       "        vertical-align: top;\n",
       "    }\n",
       "\n",
       "    .dataframe thead th {\n",
       "        text-align: right;\n",
       "    }\n",
       "</style>\n",
       "<table border=\"1\" class=\"dataframe\">\n",
       "  <thead>\n",
       "    <tr style=\"text-align: right;\">\n",
       "      <th></th>\n",
       "      <th>category</th>\n",
       "      <th>rating</th>\n",
       "      <th>label</th>\n",
       "      <th>text</th>\n",
       "      <th>text_no_punct</th>\n",
       "    </tr>\n",
       "  </thead>\n",
       "  <tbody>\n",
       "    <tr>\n",
       "      <th>0</th>\n",
       "      <td>Home and Kitchen</td>\n",
       "      <td>5</td>\n",
       "      <td>CG</td>\n",
       "      <td>Love this!  Well made, sturdy, and very comfor...</td>\n",
       "      <td>love this  well made sturdy and very comfortab...</td>\n",
       "    </tr>\n",
       "    <tr>\n",
       "      <th>1</th>\n",
       "      <td>Home and Kitchen</td>\n",
       "      <td>5</td>\n",
       "      <td>CG</td>\n",
       "      <td>love it, a great upgrade from the original.  I...</td>\n",
       "      <td>love it a great upgrade from the original  ive...</td>\n",
       "    </tr>\n",
       "    <tr>\n",
       "      <th>2</th>\n",
       "      <td>Home and Kitchen</td>\n",
       "      <td>5</td>\n",
       "      <td>CG</td>\n",
       "      <td>This pillow saved my back. I love the look and...</td>\n",
       "      <td>this pillow saved my back i love the look and ...</td>\n",
       "    </tr>\n",
       "    <tr>\n",
       "      <th>3</th>\n",
       "      <td>Home and Kitchen</td>\n",
       "      <td>1</td>\n",
       "      <td>CG</td>\n",
       "      <td>Missing information on how to use it, but it i...</td>\n",
       "      <td>missing information on how to use it but it is...</td>\n",
       "    </tr>\n",
       "    <tr>\n",
       "      <th>4</th>\n",
       "      <td>Home and Kitchen</td>\n",
       "      <td>5</td>\n",
       "      <td>CG</td>\n",
       "      <td>Very nice set. Good quality. We have had the s...</td>\n",
       "      <td>very nice set good quality we have had the set...</td>\n",
       "    </tr>\n",
       "  </tbody>\n",
       "</table>\n",
       "</div>"
      ],
      "text/plain": [
       "           category  rating label  \\\n",
       "0  Home and Kitchen       5    CG   \n",
       "1  Home and Kitchen       5    CG   \n",
       "2  Home and Kitchen       5    CG   \n",
       "3  Home and Kitchen       1    CG   \n",
       "4  Home and Kitchen       5    CG   \n",
       "\n",
       "                                                text  \\\n",
       "0  Love this!  Well made, sturdy, and very comfor...   \n",
       "1  love it, a great upgrade from the original.  I...   \n",
       "2  This pillow saved my back. I love the look and...   \n",
       "3  Missing information on how to use it, but it i...   \n",
       "4  Very nice set. Good quality. We have had the s...   \n",
       "\n",
       "                                       text_no_punct  \n",
       "0  love this  well made sturdy and very comfortab...  \n",
       "1  love it a great upgrade from the original  ive...  \n",
       "2  this pillow saved my back i love the look and ...  \n",
       "3  missing information on how to use it but it is...  \n",
       "4  very nice set good quality we have had the set...  "
      ]
     },
     "execution_count": 2,
     "metadata": {},
     "output_type": "execute_result"
    }
   ],
   "source": [
    "reviews_df = pd.read_csv('/Users/vikram/Documents/COGS108/Group58_SP24/data/fake_reviews.csv')\n",
    "reviews_df = reviews_df.rename(columns = {'text_': 'text'})\n",
    "reviews_df['category'] = reviews_df['category'].apply(lambda s: s[:-2].replace('_', ' '))\n",
    "reviews_df['rating'] = reviews_df['rating'].astype(int)\n",
    "reviews_df['text_no_punct'] = reviews_df['text'].apply(lambda s: s.lower().translate(str.maketrans('', '', string.punctuation)))\n",
    "reviews_df.head()"
   ]
  },
  {
   "cell_type": "markdown",
   "metadata": {},
   "source": [
    "# Multinomial Naive Bayes Classifier (MNB)"
   ]
  },
  {
   "cell_type": "markdown",
   "metadata": {},
   "source": [
    "## Bag-Of-Words"
   ]
  },
  {
   "cell_type": "markdown",
   "metadata": {},
   "source": [
    "### Standard Bag of Words MNB "
   ]
  },
  {
   "cell_type": "code",
   "execution_count": 3,
   "metadata": {},
   "outputs": [
    {
     "name": "stdout",
     "output_type": "stream",
     "text": [
      "Accuracy: 0.8606405341906764\n"
     ]
    }
   ],
   "source": [
    "vectorizer = CountVectorizer()\n",
    "X = vectorizer.fit_transform(reviews_df['text_no_punct'])\n",
    "\n",
    "X_train, X_test, y_train, y_test = train_test_split(X, reviews_df['label'], test_size=0.2, random_state=42)\n",
    "clf = MultinomialNB()\n",
    "clf.fit(X_train, y_train)\n",
    "\n",
    "y_pred = clf.predict(X_test)\n",
    "\n",
    "accuracy = accuracy_score(y_test, y_pred)\n",
    "print(\"Accuracy:\", accuracy)\n"
   ]
  },
  {
   "cell_type": "markdown",
   "metadata": {},
   "source": [
    "### Cross-Validation for Bag of Words MNB"
   ]
  },
  {
   "cell_type": "code",
   "execution_count": 4,
   "metadata": {},
   "outputs": [],
   "source": [
    "# X_train, X_test, y_train, y_test = train_test_split(reviews_df['text_no_punct'], reviews_df['label'], test_size=0.2, random_state=42)\n",
    "\n",
    "# pipeline_count = Pipeline([\n",
    "#     ('vectorizer', CountVectorizer()),\n",
    "#     ('classifier', MultinomialNB())\n",
    "# ])\n",
    "\n",
    "# param_grid_count = {\n",
    "#     'vectorizer__max_features': [None, 5000, 10000],\n",
    "#     'vectorizer__ngram_range': [(1, 1), (1, 2)],\n",
    "#     'classifier__alpha': [0.1, 1.0, 10.0]\n",
    "# }\n",
    "\n",
    "# grid_search_count = GridSearchCV(pipeline_count, param_grid_count, cv=5, n_jobs=-1, verbose=1)\n",
    "# grid_search_count.fit(X_train, y_train)\n",
    "\n",
    "# print(grid_search_count.best_params_)"
   ]
  },
  {
   "cell_type": "markdown",
   "metadata": {},
   "source": [
    "### Final Bag of Words MNB after Cross-Validation"
   ]
  },
  {
   "cell_type": "code",
   "execution_count": 5,
   "metadata": {},
   "outputs": [
    {
     "name": "stdout",
     "output_type": "stream",
     "text": [
      "Accuracy:  0.8908124149870162\n"
     ]
    }
   ],
   "source": [
    "vectorizer_bow_mnb = {'ngram_range': (1, 2)}\n",
    "vectorizer = CountVectorizer(**vectorizer_bow_mnb)\n",
    "X = vectorizer.fit_transform(reviews_df['text_no_punct'])\n",
    "X_train, X_test, y_train, y_test = train_test_split(X, reviews_df['label'], test_size=0.2, random_state=42)\n",
    "\n",
    "bow_mnb_params = {'alpha': 0.1,}\n",
    "mnb_bow = MultinomialNB(**bow_mnb_params)\n",
    "mnb_bow.fit(X_train, y_train)\n",
    "\n",
    "y_pred_bow_mnb = mnb_bow.predict(X_test)\n",
    "\n",
    "accuracy_bow_mnb = accuracy_score(y_test, y_pred_bow_mnb)\n",
    "print(\"Accuracy: \", accuracy_bow_mnb)"
   ]
  },
  {
   "cell_type": "markdown",
   "metadata": {},
   "source": [
    "## TF-IDF"
   ]
  },
  {
   "cell_type": "markdown",
   "metadata": {},
   "source": [
    "### Standard TF-IDF MNB"
   ]
  },
  {
   "cell_type": "code",
   "execution_count": 6,
   "metadata": {},
   "outputs": [
    {
     "name": "stdout",
     "output_type": "stream",
     "text": [
      "Accuracy: 0.8712748856188945\n"
     ]
    }
   ],
   "source": [
    "tfidf = TfidfVectorizer()\n",
    "X = tfidf.fit_transform(reviews_df['text_no_punct'])\n",
    "\n",
    "X_train, X_test, y_train, y_test = train_test_split(X, reviews_df['label'], test_size=0.2, random_state=42)\n",
    "\n",
    "naive_bayes = MultinomialNB()\n",
    "naive_bayes.fit(X_train, y_train)\n",
    "\n",
    "y_pred = naive_bayes.predict(X_test)\n",
    "\n",
    "accuracy = accuracy_score(y_test, y_pred)\n",
    "print(\"Accuracy:\", accuracy)"
   ]
  },
  {
   "cell_type": "markdown",
   "metadata": {},
   "source": [
    "### Cross-Validation for TF-IDF MNB"
   ]
  },
  {
   "cell_type": "code",
   "execution_count": 7,
   "metadata": {},
   "outputs": [],
   "source": [
    "# X_train, X_test, y_train, y_test = train_test_split(reviews_df['text_no_punct'], reviews_df['label'], test_size=0.2, random_state=42)\n",
    "\n",
    "# pipeline_tfidf = Pipeline([\n",
    "#     ('tfidf', TfidfVectorizer()),\n",
    "#     ('classifier', MultinomialNB())\n",
    "# ])\n",
    "\n",
    "# param_grid_tfidf = {\n",
    "#     'tfidf__max_features': [None, 5000, 10000],\n",
    "#     'tfidf__ngram_range': [(1, 1), (1, 2)],\n",
    "#     'classifier__alpha': [0.1, 1.0, 10.0]\n",
    "# }\n",
    "\n",
    "# grid_search_tfidf = GridSearchCV(pipeline_tfidf, param_grid_tfidf, cv=5, n_jobs=-1, verbose=1)\n",
    "# grid_search_tfidf.fit(X_train, y_train)\n",
    "\n",
    "# print(grid_search_tfidf.best_params_)"
   ]
  },
  {
   "cell_type": "markdown",
   "metadata": {},
   "source": [
    "### Final TF-IDF MNB after Cross-Validation"
   ]
  },
  {
   "cell_type": "code",
   "execution_count": 8,
   "metadata": {},
   "outputs": [
    {
     "name": "stdout",
     "output_type": "stream",
     "text": [
      "Accuracy:  0.8993446271794238\n"
     ]
    }
   ],
   "source": [
    "tfidf_params = {'ngram_range': (1, 2), 'max_features': 10000}\n",
    "tfidf = TfidfVectorizer(**tfidf_params)\n",
    "X_tfidf = tfidf.fit_transform(reviews_df['text_no_punct'])\n",
    "X_train, X_test, y_train, y_test = train_test_split(X_tfidf, reviews_df['label'], test_size=0.2, random_state=42)\n",
    "\n",
    "mnb_params = {'alpha': 0.1,}\n",
    "mnb_tfidf = MultinomialNB(**mnb_params)\n",
    "mnb_tfidf.fit(X_train, y_train)\n",
    "\n",
    "y_pred_tfidf_mnb = mnb_tfidf.predict(X_test)\n",
    "\n",
    "accuracy_tfidf_mnb = accuracy_score(y_test, y_pred_tfidf_mnb)\n",
    "print(\"Accuracy: \", accuracy_tfidf_mnb)"
   ]
  },
  {
   "cell_type": "markdown",
   "metadata": {},
   "source": [
    "# Decision Tree Classifiers"
   ]
  },
  {
   "cell_type": "markdown",
   "metadata": {},
   "source": [
    "## Bag-of-Words"
   ]
  },
  {
   "cell_type": "markdown",
   "metadata": {},
   "source": [
    "### Standard BOW Decision Tree Classifier"
   ]
  },
  {
   "cell_type": "code",
   "execution_count": 9,
   "metadata": {},
   "outputs": [
    {
     "name": "stdout",
     "output_type": "stream",
     "text": [
      "Accuracy: 0.7561518486459751\n"
     ]
    }
   ],
   "source": [
    "vectorizer = CountVectorizer()\n",
    "X = vectorizer.fit_transform(reviews_df['text_no_punct'])\n",
    "\n",
    "X_train, X_test, y_train, y_test = train_test_split(X, reviews_df['label'], test_size=0.2, random_state=42)\n",
    "clf = DecisionTreeClassifier()\n",
    "clf.fit(X_train, y_train)\n",
    "\n",
    "y_pred = clf.predict(X_test)\n",
    "\n",
    "accuracy = accuracy_score(y_test, y_pred)\n",
    "print(\"Accuracy:\", accuracy)\n"
   ]
  },
  {
   "cell_type": "markdown",
   "metadata": {},
   "source": [
    "### Cross-Validation for BOW Decision Tree Classifier"
   ]
  },
  {
   "cell_type": "code",
   "execution_count": 10,
   "metadata": {},
   "outputs": [],
   "source": [
    "# pipeline_count = Pipeline([\n",
    "#     ('vectorizer', CountVectorizer()),\n",
    "#     ('classifier', DecisionTreeClassifier(random_state=42))\n",
    "# ])\n",
    "\n",
    "# param_grid_count = {\n",
    "#     'vectorizer__max_features': [None, 5000, 10000],\n",
    "#     'classifier__max_depth': [None, 10, 20, 30],\n",
    "#     'classifier__min_samples_split': [2, 5, 10],\n",
    "#     'classifier__min_samples_leaf': [1, 2, 4]\n",
    "# }\n",
    "\n",
    "# grid_search_count = GridSearchCV(pipeline_count, param_grid_count, cv=5)\n",
    "# grid_search_count.fit(reviews_df['text_no_punct'], reviews_df['label'])\n",
    "# print(grid_search_count.best_params_)"
   ]
  },
  {
   "cell_type": "markdown",
   "metadata": {},
   "source": [
    "### Final BOW Decision Tree Classifier after Cross-Validation"
   ]
  },
  {
   "cell_type": "code",
   "execution_count": 11,
   "metadata": {},
   "outputs": [
    {
     "name": "stdout",
     "output_type": "stream",
     "text": [
      "Accuracy: 0.7597378508717695\n"
     ]
    }
   ],
   "source": [
    "best_bow_params = {'max_depth': 30, 'min_samples_leaf': 1, 'min_samples_split': 2, 'random_state': 42}\n",
    "\n",
    "clf_bow = DecisionTreeClassifier(**best_bow_params)\n",
    "clf_bow.fit(X_train, y_train)\n",
    "\n",
    "y_pred_bow = clf_bow.predict(X_test)\n",
    "\n",
    "accuracy_bow_clf = accuracy_score(y_test, y_pred_bow)\n",
    "print(\"Accuracy:\", accuracy_bow_clf)"
   ]
  },
  {
   "cell_type": "markdown",
   "metadata": {},
   "source": [
    "## TF-IDF"
   ]
  },
  {
   "cell_type": "markdown",
   "metadata": {},
   "source": [
    "### Standard TF-IDF Decision Tree Classifier"
   ]
  },
  {
   "cell_type": "code",
   "execution_count": 12,
   "metadata": {},
   "outputs": [
    {
     "name": "stdout",
     "output_type": "stream",
     "text": [
      "Accuracy: 0.7797700012365525\n"
     ]
    }
   ],
   "source": [
    "tfidf = TfidfVectorizer()\n",
    "X = tfidf.fit_transform(reviews_df['text_no_punct'])\n",
    "\n",
    "X_train, X_test, y_train, y_test = train_test_split(X, reviews_df['label'], test_size=0.2, random_state=42)\n",
    "\n",
    "clf = DecisionTreeClassifier()\n",
    "clf.fit(X_train, y_train)\n",
    "\n",
    "y_pred = clf.predict(X_test)\n",
    "\n",
    "accuracy = accuracy_score(y_test, y_pred)\n",
    "print(\"Accuracy:\", accuracy)"
   ]
  },
  {
   "cell_type": "markdown",
   "metadata": {},
   "source": [
    "### Cross-Validation for TF-IDF Decision Tree Classifier"
   ]
  },
  {
   "cell_type": "code",
   "execution_count": 13,
   "metadata": {},
   "outputs": [],
   "source": [
    "# pipeline_tfidf = Pipeline([\n",
    "#     ('vectorizer', TfidfVectorizer()),\n",
    "#     ('classifier', DecisionTreeClassifier(random_state=42))\n",
    "# ])\n",
    "\n",
    "# param_grid_tfidf = {\n",
    "#     'vectorizer__max_features': [None, 5000, 10000],\n",
    "#     'classifier__max_depth': [None, 10, 20, 30],\n",
    "#     'classifier__min_samples_split': [2, 5, 10],\n",
    "#     'classifier__min_samples_leaf': [1, 2, 4]\n",
    "\n",
    "# grid_search_tfidf = GridSearchCV(pipeline_tfidf, param_grid_tfidf, cv=5)\n",
    "# grid_search_tfidf.fit(reviews_df['text_no_punct'], reviews_df['label'])\n",
    "# print(grid_search_tfidf.best_params_)\n",
    "# # }"
   ]
  },
  {
   "cell_type": "markdown",
   "metadata": {},
   "source": [
    "### Final TF-IDF Decision Tree Classifier after Cross-Validation"
   ]
  },
  {
   "cell_type": "code",
   "execution_count": 14,
   "metadata": {},
   "outputs": [
    {
     "name": "stdout",
     "output_type": "stream",
     "text": [
      "Accuracy: 0.787931247681464\n"
     ]
    }
   ],
   "source": [
    "best_tfidf_params = {'max_depth': 20, 'min_samples_leaf': 1, 'min_samples_split': 2, 'random_state': 42}\n",
    "\n",
    "clf_tfidf = DecisionTreeClassifier(**best_tfidf_params)\n",
    "clf_tfidf.fit(X_train, y_train)\n",
    "\n",
    "y_pred_tfidf = clf_tfidf.predict(X_test)\n",
    "\n",
    "accuracy_tfidf_clf = accuracy_score(y_test, y_pred_tfidf)\n",
    "print(\"Accuracy:\", accuracy_tfidf_clf)\n"
   ]
  },
  {
   "cell_type": "code",
   "execution_count": 15,
   "metadata": {},
   "outputs": [
    {
     "name": "stdout",
     "output_type": "stream",
     "text": [
      "MultinomialNB Bag-Of-Words Accuracy:  0.8908124149870162\n",
      "MultinomialNB TF-IDF Accuracy:  0.8993446271794238\n",
      "DecisionTreeClassifier Bag-Of-Words Accuracy:  0.7597378508717695\n",
      "DecisionTreeClassifier TF-IDF Accuracy:  0.787931247681464\n"
     ]
    }
   ],
   "source": [
    "print(\"MultinomialNB Bag-Of-Words Accuracy: \", accuracy_bow_mnb)\n",
    "print(\"MultinomialNB TF-IDF Accuracy: \", accuracy_tfidf_mnb)\n",
    "print(\"DecisionTreeClassifier Bag-Of-Words Accuracy: \", accuracy_bow_clf)\n",
    "print(\"DecisionTreeClassifier TF-IDF Accuracy: \", accuracy_tfidf_clf)\n"
   ]
  },
  {
   "cell_type": "code",
   "execution_count": 16,
   "metadata": {},
   "outputs": [
    {
     "data": {
      "text/plain": [
       "array(['CG', 'CG', 'OR', ..., 'CG', 'OR', 'OR'], dtype='<U2')"
      ]
     },
     "execution_count": 16,
     "metadata": {},
     "output_type": "execute_result"
    }
   ],
   "source": [
    "y_pred_bow_mnb"
   ]
  },
  {
   "cell_type": "code",
   "execution_count": 17,
   "metadata": {},
   "outputs": [
    {
     "data": {
      "text/plain": [
       "array(['CG', 'CG', 'OR', ..., 'CG', 'OR', 'OR'], dtype='<U2')"
      ]
     },
     "execution_count": 17,
     "metadata": {},
     "output_type": "execute_result"
    }
   ],
   "source": [
    "y_pred_tfidf_mnb"
   ]
  },
  {
   "cell_type": "code",
   "execution_count": 22,
   "metadata": {},
   "outputs": [],
   "source": [
    "res = pd.read_csv('results.csv')\n",
    "res['MNB_BOW'] = y_pred_bow_mnb\n",
    "res['MNB_TF-IDF'] = y_pred_tfidf_mnb\n",
    "res.to_csv('results.csv')"
   ]
  },
  {
   "cell_type": "code",
   "execution_count": null,
   "metadata": {},
   "outputs": [],
   "source": []
  }
 ],
 "metadata": {
  "kernelspec": {
   "display_name": "Python 3 (ipykernel)",
   "language": "python",
   "name": "python3"
  },
  "language_info": {
   "codemirror_mode": {
    "name": "ipython",
    "version": 3
   },
   "file_extension": ".py",
   "mimetype": "text/x-python",
   "name": "python",
   "nbconvert_exporter": "python",
   "pygments_lexer": "ipython3",
   "version": "3.9.12"
  }
 },
 "nbformat": 4,
 "nbformat_minor": 2
}
