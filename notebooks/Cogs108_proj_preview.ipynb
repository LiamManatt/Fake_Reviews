{
 "cells": [
  {
   "cell_type": "code",
   "execution_count": 1,
   "id": "d616cd58",
   "metadata": {},
   "outputs": [
    {
     "name": "stderr",
     "output_type": "stream",
     "text": [
      "/Users/nilaymenon/opt/anaconda3/lib/python3.9/site-packages/scipy/__init__.py:155: UserWarning: A NumPy version >=1.18.5 and <1.25.0 is required for this version of SciPy (detected version 1.26.4\n",
      "  warnings.warn(f\"A NumPy version >={np_minversion} and <{np_maxversion}\"\n"
     ]
    }
   ],
   "source": [
    "import pandas as pd\n",
    "import numpy as np\n",
    "import matplotlib.pyplot as plt\n",
    "import seaborn as sns"
   ]
  },
  {
   "cell_type": "code",
   "execution_count": 2,
   "id": "894aec01",
   "metadata": {},
   "outputs": [],
   "source": [
    "df = pd.read_csv('fake reviews dataset.csv')"
   ]
  },
  {
   "cell_type": "code",
   "execution_count": 3,
   "id": "9fcc784d",
   "metadata": {},
   "outputs": [
    {
     "data": {
      "text/html": [
       "<div>\n",
       "<style scoped>\n",
       "    .dataframe tbody tr th:only-of-type {\n",
       "        vertical-align: middle;\n",
       "    }\n",
       "\n",
       "    .dataframe tbody tr th {\n",
       "        vertical-align: top;\n",
       "    }\n",
       "\n",
       "    .dataframe thead th {\n",
       "        text-align: right;\n",
       "    }\n",
       "</style>\n",
       "<table border=\"1\" class=\"dataframe\">\n",
       "  <thead>\n",
       "    <tr style=\"text-align: right;\">\n",
       "      <th></th>\n",
       "      <th>category</th>\n",
       "      <th>rating</th>\n",
       "      <th>label</th>\n",
       "      <th>review</th>\n",
       "    </tr>\n",
       "  </thead>\n",
       "  <tbody>\n",
       "    <tr>\n",
       "      <th>0</th>\n",
       "      <td>Home_and_Kitchen_5</td>\n",
       "      <td>5.0</td>\n",
       "      <td>CG</td>\n",
       "      <td>Love this!  Well made, sturdy, and very comfor...</td>\n",
       "    </tr>\n",
       "    <tr>\n",
       "      <th>1</th>\n",
       "      <td>Home_and_Kitchen_5</td>\n",
       "      <td>5.0</td>\n",
       "      <td>CG</td>\n",
       "      <td>love it, a great upgrade from the original.  I...</td>\n",
       "    </tr>\n",
       "    <tr>\n",
       "      <th>2</th>\n",
       "      <td>Home_and_Kitchen_5</td>\n",
       "      <td>5.0</td>\n",
       "      <td>CG</td>\n",
       "      <td>This pillow saved my back. I love the look and...</td>\n",
       "    </tr>\n",
       "    <tr>\n",
       "      <th>3</th>\n",
       "      <td>Home_and_Kitchen_5</td>\n",
       "      <td>1.0</td>\n",
       "      <td>CG</td>\n",
       "      <td>Missing information on how to use it, but it i...</td>\n",
       "    </tr>\n",
       "    <tr>\n",
       "      <th>4</th>\n",
       "      <td>Home_and_Kitchen_5</td>\n",
       "      <td>5.0</td>\n",
       "      <td>CG</td>\n",
       "      <td>Very nice set. Good quality. We have had the s...</td>\n",
       "    </tr>\n",
       "    <tr>\n",
       "      <th>...</th>\n",
       "      <td>...</td>\n",
       "      <td>...</td>\n",
       "      <td>...</td>\n",
       "      <td>...</td>\n",
       "    </tr>\n",
       "    <tr>\n",
       "      <th>40427</th>\n",
       "      <td>Clothing_Shoes_and_Jewelry_5</td>\n",
       "      <td>4.0</td>\n",
       "      <td>OR</td>\n",
       "      <td>I had read some reviews saying that this bra r...</td>\n",
       "    </tr>\n",
       "    <tr>\n",
       "      <th>40428</th>\n",
       "      <td>Clothing_Shoes_and_Jewelry_5</td>\n",
       "      <td>5.0</td>\n",
       "      <td>CG</td>\n",
       "      <td>I wasn't sure exactly what it would be. It is ...</td>\n",
       "    </tr>\n",
       "    <tr>\n",
       "      <th>40429</th>\n",
       "      <td>Clothing_Shoes_and_Jewelry_5</td>\n",
       "      <td>2.0</td>\n",
       "      <td>OR</td>\n",
       "      <td>You can wear the hood by itself, wear it with ...</td>\n",
       "    </tr>\n",
       "    <tr>\n",
       "      <th>40430</th>\n",
       "      <td>Clothing_Shoes_and_Jewelry_5</td>\n",
       "      <td>1.0</td>\n",
       "      <td>CG</td>\n",
       "      <td>I liked nothing about this dress. The only rea...</td>\n",
       "    </tr>\n",
       "    <tr>\n",
       "      <th>40431</th>\n",
       "      <td>Clothing_Shoes_and_Jewelry_5</td>\n",
       "      <td>5.0</td>\n",
       "      <td>OR</td>\n",
       "      <td>I work in the wedding industry and have to wor...</td>\n",
       "    </tr>\n",
       "  </tbody>\n",
       "</table>\n",
       "<p>40432 rows × 4 columns</p>\n",
       "</div>"
      ],
      "text/plain": [
       "                           category  rating label  \\\n",
       "0                Home_and_Kitchen_5     5.0    CG   \n",
       "1                Home_and_Kitchen_5     5.0    CG   \n",
       "2                Home_and_Kitchen_5     5.0    CG   \n",
       "3                Home_and_Kitchen_5     1.0    CG   \n",
       "4                Home_and_Kitchen_5     5.0    CG   \n",
       "...                             ...     ...   ...   \n",
       "40427  Clothing_Shoes_and_Jewelry_5     4.0    OR   \n",
       "40428  Clothing_Shoes_and_Jewelry_5     5.0    CG   \n",
       "40429  Clothing_Shoes_and_Jewelry_5     2.0    OR   \n",
       "40430  Clothing_Shoes_and_Jewelry_5     1.0    CG   \n",
       "40431  Clothing_Shoes_and_Jewelry_5     5.0    OR   \n",
       "\n",
       "                                                  review  \n",
       "0      Love this!  Well made, sturdy, and very comfor...  \n",
       "1      love it, a great upgrade from the original.  I...  \n",
       "2      This pillow saved my back. I love the look and...  \n",
       "3      Missing information on how to use it, but it i...  \n",
       "4      Very nice set. Good quality. We have had the s...  \n",
       "...                                                  ...  \n",
       "40427  I had read some reviews saying that this bra r...  \n",
       "40428  I wasn't sure exactly what it would be. It is ...  \n",
       "40429  You can wear the hood by itself, wear it with ...  \n",
       "40430  I liked nothing about this dress. The only rea...  \n",
       "40431  I work in the wedding industry and have to wor...  \n",
       "\n",
       "[40432 rows x 4 columns]"
      ]
     },
     "execution_count": 3,
     "metadata": {},
     "output_type": "execute_result"
    }
   ],
   "source": [
    "df.rename(columns = {'text_':'review'}, inplace = True)\n",
    "df"
   ]
  },
  {
   "cell_type": "code",
   "execution_count": 4,
   "id": "f8b93baa",
   "metadata": {},
   "outputs": [
    {
     "data": {
      "text/plain": [
       "array(['Home_and_Kitchen_5', 'Sports_and_Outdoors_5', 'Electronics_5',\n",
       "       'Movies_and_TV_5', 'Tools_and_Home_Improvement_5',\n",
       "       'Pet_Supplies_5', 'Kindle_Store_5', 'Books_5', 'Toys_and_Games_5',\n",
       "       'Clothing_Shoes_and_Jewelry_5'], dtype=object)"
      ]
     },
     "execution_count": 4,
     "metadata": {},
     "output_type": "execute_result"
    }
   ],
   "source": [
    "df['category'].unique()\n"
   ]
  },
  {
   "cell_type": "code",
   "execution_count": 5,
   "id": "d9b8b15a",
   "metadata": {},
   "outputs": [
    {
     "data": {
      "text/plain": [
       "array([5., 1., 3., 2., 4.])"
      ]
     },
     "execution_count": 5,
     "metadata": {},
     "output_type": "execute_result"
    }
   ],
   "source": [
    "df['rating'].unique()\n"
   ]
  },
  {
   "cell_type": "code",
   "execution_count": 6,
   "id": "8154853b",
   "metadata": {},
   "outputs": [
    {
     "data": {
      "text/plain": [
       "array(['CG', 'OR'], dtype=object)"
      ]
     },
     "execution_count": 6,
     "metadata": {},
     "output_type": "execute_result"
    }
   ],
   "source": [
    "df['label'].unique()\n"
   ]
  },
  {
   "cell_type": "code",
   "execution_count": 7,
   "id": "332cfdc7",
   "metadata": {},
   "outputs": [
    {
     "data": {
      "text/plain": [
       "label\n",
       "CG    4.259893\n",
       "OR    4.253265\n",
       "Name: rating, dtype: float64"
      ]
     },
     "execution_count": 7,
     "metadata": {},
     "output_type": "execute_result"
    }
   ],
   "source": [
    "group_rating = df.groupby('label')['rating'].mean()\n",
    "group_rating"
   ]
  },
  {
   "cell_type": "code",
   "execution_count": 8,
   "id": "0181151f",
   "metadata": {},
   "outputs": [
    {
     "data": {
      "text/plain": [
       "label\n",
       "CG    305.528195\n",
       "OR    396.969579\n",
       "Name: len_review, dtype: float64"
      ]
     },
     "execution_count": 8,
     "metadata": {},
     "output_type": "execute_result"
    }
   ],
   "source": [
    "df['len_review'] = df['review'].apply(lambda x: len(x.strip()))\n",
    "df\n",
    "review_len_per_group = df.groupby('label')['len_review'].mean()\n",
    "review_len_per_group"
   ]
  },
  {
   "cell_type": "code",
   "execution_count": 9,
   "id": "e5a99122",
   "metadata": {},
   "outputs": [],
   "source": [
    "df['review'] = df['review'].apply(lambda x: x.lower())"
   ]
  },
  {
   "cell_type": "code",
   "execution_count": 10,
   "id": "a38d8468",
   "metadata": {},
   "outputs": [
    {
     "data": {
      "text/html": [
       "<div>\n",
       "<style scoped>\n",
       "    .dataframe tbody tr th:only-of-type {\n",
       "        vertical-align: middle;\n",
       "    }\n",
       "\n",
       "    .dataframe tbody tr th {\n",
       "        vertical-align: top;\n",
       "    }\n",
       "\n",
       "    .dataframe thead th {\n",
       "        text-align: right;\n",
       "    }\n",
       "</style>\n",
       "<table border=\"1\" class=\"dataframe\">\n",
       "  <thead>\n",
       "    <tr style=\"text-align: right;\">\n",
       "      <th></th>\n",
       "      <th>category</th>\n",
       "      <th>rating</th>\n",
       "      <th>label</th>\n",
       "      <th>review</th>\n",
       "      <th>len_review</th>\n",
       "      <th>letter_pairs_frequency</th>\n",
       "      <th>letter_pairs_number</th>\n",
       "    </tr>\n",
       "  </thead>\n",
       "  <tbody>\n",
       "    <tr>\n",
       "      <th>0</th>\n",
       "      <td>Home_and_Kitchen_5</td>\n",
       "      <td>5.0</td>\n",
       "      <td>CG</td>\n",
       "      <td>love this!  well made, sturdy, and very comfor...</td>\n",
       "      <td>75</td>\n",
       "      <td>{'lo': 2, 'ov': 2, 've': 4, 'e ': 2, ' t': 1, ...</td>\n",
       "      <td>[2, 2, 4, 2, 1, 1, 1, 1, 1, 1, 2, 1, 1, 1, 1, ...</td>\n",
       "    </tr>\n",
       "    <tr>\n",
       "      <th>1</th>\n",
       "      <td>Home_and_Kitchen_5</td>\n",
       "      <td>5.0</td>\n",
       "      <td>CG</td>\n",
       "      <td>love it, a great upgrade from the original.  i...</td>\n",
       "      <td>80</td>\n",
       "      <td>{'lo': 1, 'ov': 1, 've': 2, 'e ': 6, ' i': 2, ...</td>\n",
       "      <td>[1, 1, 2, 6, 2, 1, 1, 1, 2, 2, 1, 2, 1, 2, 1, ...</td>\n",
       "    </tr>\n",
       "    <tr>\n",
       "      <th>2</th>\n",
       "      <td>Home_and_Kitchen_5</td>\n",
       "      <td>5.0</td>\n",
       "      <td>CG</td>\n",
       "      <td>this pillow saved my back. i love the look and...</td>\n",
       "      <td>67</td>\n",
       "      <td>{'th': 3, 'hi': 2, 'is': 2, 's ': 2, ' p': 2, ...</td>\n",
       "      <td>[3, 2, 2, 2, 2, 2, 2, 2, 4, 2, 1, 1, 1, 1, 2, ...</td>\n",
       "    </tr>\n",
       "    <tr>\n",
       "      <th>3</th>\n",
       "      <td>Home_and_Kitchen_5</td>\n",
       "      <td>1.0</td>\n",
       "      <td>CG</td>\n",
       "      <td>missing information on how to use it, but it i...</td>\n",
       "      <td>81</td>\n",
       "      <td>{'mi': 1, 'is': 2, 'ss': 1, 'si': 1, 'in': 2, ...</td>\n",
       "      <td>[1, 2, 1, 1, 2, 1, 1, 5, 1, 2, 2, 1, 1, 2, 1, ...</td>\n",
       "    </tr>\n",
       "    <tr>\n",
       "      <th>4</th>\n",
       "      <td>Home_and_Kitchen_5</td>\n",
       "      <td>5.0</td>\n",
       "      <td>CG</td>\n",
       "      <td>very nice set. good quality. we have had the s...</td>\n",
       "      <td>85</td>\n",
       "      <td>{'ve': 3, 'er': 1, 'ry': 1, 'y ': 1, ' n': 3, ...</td>\n",
       "      <td>[3, 1, 1, 1, 3, 1, 1, 1, 5, 2, 2, 2, 1, 2, 1, ...</td>\n",
       "    </tr>\n",
       "    <tr>\n",
       "      <th>...</th>\n",
       "      <td>...</td>\n",
       "      <td>...</td>\n",
       "      <td>...</td>\n",
       "      <td>...</td>\n",
       "      <td>...</td>\n",
       "      <td>...</td>\n",
       "      <td>...</td>\n",
       "    </tr>\n",
       "    <tr>\n",
       "      <th>40427</th>\n",
       "      <td>Clothing_Shoes_and_Jewelry_5</td>\n",
       "      <td>4.0</td>\n",
       "      <td>OR</td>\n",
       "      <td>i had read some reviews saying that this bra r...</td>\n",
       "      <td>1694</td>\n",
       "      <td>{'i ': 18, ' h': 10, 'ha': 13, 'ad': 10, 'd ':...</td>\n",
       "      <td>[18, 10, 13, 10, 26, 9, 19, 8, 24, 5, 6, 7, 48...</td>\n",
       "    </tr>\n",
       "    <tr>\n",
       "      <th>40428</th>\n",
       "      <td>Clothing_Shoes_and_Jewelry_5</td>\n",
       "      <td>5.0</td>\n",
       "      <td>CG</td>\n",
       "      <td>i wasn't sure exactly what it would be. it is ...</td>\n",
       "      <td>1304</td>\n",
       "      <td>{'i ': 27, ' w': 27, 'wa': 9, 'as': 9, 'sn': 1...</td>\n",
       "      <td>[27, 27, 9, 9, 1, 1, 1, 28, 13, 1, 4, 13, 35, ...</td>\n",
       "    </tr>\n",
       "    <tr>\n",
       "      <th>40429</th>\n",
       "      <td>Clothing_Shoes_and_Jewelry_5</td>\n",
       "      <td>2.0</td>\n",
       "      <td>OR</td>\n",
       "      <td>you can wear the hood by itself, wear it with ...</td>\n",
       "      <td>1987</td>\n",
       "      <td>{'yo': 10, 'ou': 15, 'u ': 4, ' c': 15, 'ca': ...</td>\n",
       "      <td>[10, 15, 4, 15, 5, 21, 17, 28, 7, 12, 15, 26, ...</td>\n",
       "    </tr>\n",
       "    <tr>\n",
       "      <th>40430</th>\n",
       "      <td>Clothing_Shoes_and_Jewelry_5</td>\n",
       "      <td>1.0</td>\n",
       "      <td>CG</td>\n",
       "      <td>i liked nothing about this dress. the only rea...</td>\n",
       "      <td>1300</td>\n",
       "      <td>{'i ': 21, ' l': 11, 'li': 6, 'ik': 3, 'ke': 3...</td>\n",
       "      <td>[21, 11, 6, 3, 3, 7, 29, 7, 4, 5, 27, 5, 8, 3,...</td>\n",
       "    </tr>\n",
       "    <tr>\n",
       "      <th>40431</th>\n",
       "      <td>Clothing_Shoes_and_Jewelry_5</td>\n",
       "      <td>5.0</td>\n",
       "      <td>OR</td>\n",
       "      <td>i work in the wedding industry and have to wor...</td>\n",
       "      <td>1768</td>\n",
       "      <td>{'i ': 12, ' w': 25, 'wo': 5, 'or': 22, 'rk': ...</td>\n",
       "      <td>[12, 25, 5, 22, 4, 15, 30, 25, 18, 61, 46, 34,...</td>\n",
       "    </tr>\n",
       "  </tbody>\n",
       "</table>\n",
       "<p>40432 rows × 7 columns</p>\n",
       "</div>"
      ],
      "text/plain": [
       "                           category  rating label  \\\n",
       "0                Home_and_Kitchen_5     5.0    CG   \n",
       "1                Home_and_Kitchen_5     5.0    CG   \n",
       "2                Home_and_Kitchen_5     5.0    CG   \n",
       "3                Home_and_Kitchen_5     1.0    CG   \n",
       "4                Home_and_Kitchen_5     5.0    CG   \n",
       "...                             ...     ...   ...   \n",
       "40427  Clothing_Shoes_and_Jewelry_5     4.0    OR   \n",
       "40428  Clothing_Shoes_and_Jewelry_5     5.0    CG   \n",
       "40429  Clothing_Shoes_and_Jewelry_5     2.0    OR   \n",
       "40430  Clothing_Shoes_and_Jewelry_5     1.0    CG   \n",
       "40431  Clothing_Shoes_and_Jewelry_5     5.0    OR   \n",
       "\n",
       "                                                  review  len_review  \\\n",
       "0      love this!  well made, sturdy, and very comfor...          75   \n",
       "1      love it, a great upgrade from the original.  i...          80   \n",
       "2      this pillow saved my back. i love the look and...          67   \n",
       "3      missing information on how to use it, but it i...          81   \n",
       "4      very nice set. good quality. we have had the s...          85   \n",
       "...                                                  ...         ...   \n",
       "40427  i had read some reviews saying that this bra r...        1694   \n",
       "40428  i wasn't sure exactly what it would be. it is ...        1304   \n",
       "40429  you can wear the hood by itself, wear it with ...        1987   \n",
       "40430  i liked nothing about this dress. the only rea...        1300   \n",
       "40431  i work in the wedding industry and have to wor...        1768   \n",
       "\n",
       "                                  letter_pairs_frequency  \\\n",
       "0      {'lo': 2, 'ov': 2, 've': 4, 'e ': 2, ' t': 1, ...   \n",
       "1      {'lo': 1, 'ov': 1, 've': 2, 'e ': 6, ' i': 2, ...   \n",
       "2      {'th': 3, 'hi': 2, 'is': 2, 's ': 2, ' p': 2, ...   \n",
       "3      {'mi': 1, 'is': 2, 'ss': 1, 'si': 1, 'in': 2, ...   \n",
       "4      {'ve': 3, 'er': 1, 'ry': 1, 'y ': 1, ' n': 3, ...   \n",
       "...                                                  ...   \n",
       "40427  {'i ': 18, ' h': 10, 'ha': 13, 'ad': 10, 'd ':...   \n",
       "40428  {'i ': 27, ' w': 27, 'wa': 9, 'as': 9, 'sn': 1...   \n",
       "40429  {'yo': 10, 'ou': 15, 'u ': 4, ' c': 15, 'ca': ...   \n",
       "40430  {'i ': 21, ' l': 11, 'li': 6, 'ik': 3, 'ke': 3...   \n",
       "40431  {'i ': 12, ' w': 25, 'wo': 5, 'or': 22, 'rk': ...   \n",
       "\n",
       "                                     letter_pairs_number  \n",
       "0      [2, 2, 4, 2, 1, 1, 1, 1, 1, 1, 2, 1, 1, 1, 1, ...  \n",
       "1      [1, 1, 2, 6, 2, 1, 1, 1, 2, 2, 1, 2, 1, 2, 1, ...  \n",
       "2      [3, 2, 2, 2, 2, 2, 2, 2, 4, 2, 1, 1, 1, 1, 2, ...  \n",
       "3      [1, 2, 1, 1, 2, 1, 1, 5, 1, 2, 2, 1, 1, 2, 1, ...  \n",
       "4      [3, 1, 1, 1, 3, 1, 1, 1, 5, 2, 2, 2, 1, 2, 1, ...  \n",
       "...                                                  ...  \n",
       "40427  [18, 10, 13, 10, 26, 9, 19, 8, 24, 5, 6, 7, 48...  \n",
       "40428  [27, 27, 9, 9, 1, 1, 1, 28, 13, 1, 4, 13, 35, ...  \n",
       "40429  [10, 15, 4, 15, 5, 21, 17, 28, 7, 12, 15, 26, ...  \n",
       "40430  [21, 11, 6, 3, 3, 7, 29, 7, 4, 5, 27, 5, 8, 3,...  \n",
       "40431  [12, 25, 5, 22, 4, 15, 30, 25, 18, 61, 46, 34,...  \n",
       "\n",
       "[40432 rows x 7 columns]"
      ]
     },
     "execution_count": 10,
     "metadata": {},
     "output_type": "execute_result"
    }
   ],
   "source": [
    "def letter_pairs_freq(word):\n",
    "    pairs = [word[i:i+2] for i in range(len(word)-1)]\n",
    "    pair_freq = {}\n",
    "    for pair in pairs:\n",
    "        if pair in pair_freq:\n",
    "            pair_freq[pair] += 1\n",
    "        else:\n",
    "            pair_freq[pair] = 1\n",
    "    return pair_freq\n",
    "\n",
    "df['letter_pairs_frequency'] = df['review'].apply(letter_pairs_freq)\n",
    "df['letter_pairs_number'] = df['letter_pairs_frequency'].apply(lambda x: list(x.values()))\n",
    "df"
   ]
  },
  {
   "cell_type": "code",
   "execution_count": 11,
   "id": "2e58056d",
   "metadata": {},
   "outputs": [
    {
     "name": "stdout",
     "output_type": "stream",
     "text": [
      "Accuracy: 0.8585383949548658\n"
     ]
    }
   ],
   "source": [
    "from sklearn.feature_extraction.text import CountVectorizer\n",
    "from sklearn.model_selection import train_test_split\n",
    "from sklearn.naive_bayes import MultinomialNB\n",
    "from sklearn.metrics import accuracy_score\n",
    "\n",
    "# Convert the text data into a numerical representation using CountVectorizer\n",
    "vectorizer = CountVectorizer()\n",
    "X = vectorizer.fit_transform(df['review'])\n",
    "\n",
    "# Split the data into training and testing sets\n",
    "X_train, X_test, y_train, y_test = train_test_split(X, df['label'], test_size=0.2, random_state=42)\n",
    "\n",
    "# Train a Multinomial Naive Bayes classifier\n",
    "clf = MultinomialNB()\n",
    "clf.fit(X_train, y_train)\n",
    "\n",
    "# Predict on the test set\n",
    "y_pred = clf.predict(X_test)\n",
    "\n",
    "# Evaluate the classifier\n",
    "accuracy = accuracy_score(y_test, y_pred)\n",
    "print(\"Accuracy:\", accuracy)\n",
    "# print(X)"
   ]
  },
  {
   "cell_type": "code",
   "execution_count": 12,
   "id": "b3133501",
   "metadata": {},
   "outputs": [
    {
     "data": {
      "text/plain": [
       "array(['OR'], dtype='<U2')"
      ]
     },
     "execution_count": 12,
     "metadata": {},
     "output_type": "execute_result"
    }
   ],
   "source": [
    "clf.predict(X[40431])"
   ]
  },
  {
   "cell_type": "code",
   "execution_count": null,
   "id": "a1ee6ddc",
   "metadata": {},
   "outputs": [],
   "source": []
  },
  {
   "cell_type": "code",
   "execution_count": null,
   "id": "50ca1097",
   "metadata": {},
   "outputs": [],
   "source": []
  }
 ],
 "metadata": {
  "kernelspec": {
   "display_name": "Python 3 (ipykernel)",
   "language": "python",
   "name": "python3"
  },
  "language_info": {
   "codemirror_mode": {
    "name": "ipython",
    "version": 3
   },
   "file_extension": ".py",
   "mimetype": "text/x-python",
   "name": "python",
   "nbconvert_exporter": "python",
   "pygments_lexer": "ipython3",
   "version": "3.9.13"
  }
 },
 "nbformat": 4,
 "nbformat_minor": 5
}
